{
  "cells": [
    {
      "cell_type": "markdown",
      "source": [
        "## Importing Libraries!"
      ],
      "metadata": {
        "id": "zQHBvYnJbw0y"
      }
    },
    {
      "cell_type": "code",
      "source": [
        "import numpy as np\n",
        "import torch\n",
        "import torch.nn as nn\n",
        "import torch.optim as optim\n",
        "import matplotlib.pyplot as plt"
      ],
      "metadata": {
        "id": "M1r4SGCTbtWb"
      },
      "execution_count": 1,
      "outputs": []
    },
    {
      "cell_type": "code",
      "source": [
        "from google.colab import drive\n",
        "drive.mount('/content/drive')"
      ],
      "metadata": {
        "colab": {
          "base_uri": "https://localhost:8080/"
        },
        "id": "A0Wpu97cb9y1",
        "outputId": "970ad73c-719a-4bf1-c523-b00c43b82d14"
      },
      "execution_count": 2,
      "outputs": [
        {
          "output_type": "stream",
          "name": "stdout",
          "text": [
            "Mounted at /content/drive\n"
          ]
        }
      ]
    },
    {
      "cell_type": "markdown",
      "metadata": {
        "id": "NEbiQFMQTQq2"
      },
      "source": [
        "## Defining Simple Data for Understanding"
      ]
    },
    {
      "cell_type": "code",
      "execution_count": 3,
      "metadata": {
        "id": "aER69x8JTQq3"
      },
      "outputs": [],
      "source": [
        "corpus = [\"basketball badminton cycling\", \"badminton cycling basketball\", \"cycling basketball badminton\",\n",
        "          \"pizza burger sandwich\", \"burger sandwich pizza\", \"sandwich pizza burger\"]"
      ]
    },
    {
      "cell_type": "code",
      "execution_count": 4,
      "metadata": {
        "colab": {
          "base_uri": "https://localhost:8080/"
        },
        "id": "uO_0d8IHTQq3",
        "outputId": "03272c32-9ea4-40db-c950-e6bcee077d70"
      },
      "outputs": [
        {
          "output_type": "execute_result",
          "data": {
            "text/plain": [
              "[['basketball', 'badminton', 'cycling'],\n",
              " ['badminton', 'cycling', 'basketball'],\n",
              " ['cycling', 'basketball', 'badminton'],\n",
              " ['pizza', 'burger', 'sandwich'],\n",
              " ['burger', 'sandwich', 'pizza'],\n",
              " ['sandwich', 'pizza', 'burger']]"
            ]
          },
          "metadata": {},
          "execution_count": 4
        }
      ],
      "source": [
        "corpus = [sent.split(\" \") for sent in corpus]\n",
        "corpus"
      ]
    },
    {
      "cell_type": "code",
      "execution_count": 5,
      "metadata": {
        "colab": {
          "base_uri": "https://localhost:8080/"
        },
        "id": "QJMd67u9TQq5",
        "outputId": "0eb828ab-b33b-4770-e2b3-65eda5134660"
      },
      "outputs": [
        {
          "output_type": "execute_result",
          "data": {
            "text/plain": [
              "['basketball', 'burger', 'cycling', 'pizza', 'sandwich', 'badminton']"
            ]
          },
          "metadata": {},
          "execution_count": 5
        }
      ],
      "source": [
        "#get word sequences and unique words\n",
        "flatten = lambda l: [item for sublist in l for item in sublist]\n",
        "vocab = list(set(flatten(corpus)))\n",
        "vocab"
      ]
    },
    {
      "cell_type": "code",
      "execution_count": 6,
      "metadata": {
        "colab": {
          "base_uri": "https://localhost:8080/"
        },
        "id": "CvoK2whnTQq6",
        "outputId": "d8e6408f-dbce-4bd0-ae98-8476d1a32f17"
      },
      "outputs": [
        {
          "output_type": "stream",
          "name": "stdout",
          "text": [
            "{'basketball': 0, 'burger': 1, 'cycling': 2, 'pizza': 3, 'sandwich': 4, 'badminton': 5}\n"
          ]
        }
      ],
      "source": [
        "#numericalization\n",
        "word2index = {w: i for i, w in enumerate(vocab)}\n",
        "print(word2index)"
      ]
    },
    {
      "cell_type": "code",
      "execution_count": 7,
      "metadata": {
        "colab": {
          "base_uri": "https://localhost:8080/"
        },
        "id": "C6NJPpqPTQq6",
        "outputId": "1a48e599-8b93-407e-fa5b-e002d79ea3e9"
      },
      "outputs": [
        {
          "output_type": "stream",
          "name": "stdout",
          "text": [
            "6\n"
          ]
        }
      ],
      "source": [
        "#vocab size\n",
        "voc_size = len(vocab)\n",
        "print(voc_size)"
      ]
    },
    {
      "cell_type": "code",
      "execution_count": 8,
      "metadata": {
        "id": "bShASB8ITQq8"
      },
      "outputs": [],
      "source": [
        "#append UNK\n",
        "vocab.append('<UNK>')"
      ]
    },
    {
      "cell_type": "code",
      "execution_count": 9,
      "metadata": {
        "colab": {
          "base_uri": "https://localhost:8080/"
        },
        "id": "HwNuXDKJTQq8",
        "outputId": "eff244ff-5794-47c1-c65b-612ca88b319e"
      },
      "outputs": [
        {
          "output_type": "execute_result",
          "data": {
            "text/plain": [
              "['basketball', 'burger', 'cycling', 'pizza', 'sandwich', 'badminton', '<UNK>']"
            ]
          },
          "metadata": {},
          "execution_count": 9
        }
      ],
      "source": [
        "vocab"
      ]
    },
    {
      "cell_type": "code",
      "execution_count": 10,
      "metadata": {
        "colab": {
          "base_uri": "https://localhost:8080/"
        },
        "id": "4RFvyp2tTQq9",
        "outputId": "3a328806-42c6-4392-c4de-4ecbeeda7237"
      },
      "outputs": [
        {
          "output_type": "execute_result",
          "data": {
            "text/plain": [
              "{'basketball': 0,\n",
              " 'burger': 1,\n",
              " 'cycling': 2,\n",
              " 'pizza': 3,\n",
              " 'sandwich': 4,\n",
              " 'badminton': 5,\n",
              " '<UNK>': 6}"
            ]
          },
          "metadata": {},
          "execution_count": 10
        }
      ],
      "source": [
        "word2index['<UNK>'] = 6\n",
        "word2index"
      ]
    },
    {
      "cell_type": "code",
      "execution_count": 11,
      "metadata": {
        "colab": {
          "base_uri": "https://localhost:8080/"
        },
        "id": "NpylnBCvTQq9",
        "outputId": "a9f3039c-516e-4801-8fcb-d16ff76802ba"
      },
      "outputs": [
        {
          "output_type": "execute_result",
          "data": {
            "text/plain": [
              "{0: 'basketball',\n",
              " 1: 'burger',\n",
              " 2: 'cycling',\n",
              " 3: 'pizza',\n",
              " 4: 'sandwich',\n",
              " 5: 'badminton',\n",
              " 6: '<UNK>'}"
            ]
          },
          "metadata": {},
          "execution_count": 11
        }
      ],
      "source": [
        "#just in case we need to use\n",
        "index2word = {v:k for k, v in word2index.items()}\n",
        "index2word"
      ]
    },
    {
      "cell_type": "code",
      "source": [
        "#vocab size\n",
        "voc_size = len(vocab)\n",
        "print(voc_size)"
      ],
      "metadata": {
        "colab": {
          "base_uri": "https://localhost:8080/"
        },
        "id": "kvs4InRDcW0T",
        "outputId": "f386d9f8-e799-4ca6-99aa-ae78bc11d423"
      },
      "execution_count": 12,
      "outputs": [
        {
          "output_type": "stream",
          "name": "stdout",
          "text": [
            "7\n"
          ]
        }
      ]
    },
    {
      "cell_type": "markdown",
      "source": [
        "# 1. Word2Vec\n",
        "\n",
        "Let's work on skipgram-based implementation of word2vec."
      ],
      "metadata": {
        "id": "BYQNhY6WeA2h"
      }
    },
    {
      "cell_type": "markdown",
      "metadata": {
        "id": "oc_E_XnkTQq9"
      },
      "source": [
        "## 1.1 Prepare train data"
      ]
    },
    {
      "cell_type": "code",
      "execution_count": 13,
      "metadata": {
        "colab": {
          "base_uri": "https://localhost:8080/"
        },
        "id": "bK0Ei0b_TQq9",
        "outputId": "54f67954-da89-40c6-cadf-251b627a0be0"
      },
      "outputs": [
        {
          "output_type": "stream",
          "name": "stdout",
          "text": [
            "['basketball', 'badminton', 'cycling']\n",
            "['badminton', 'cycling', 'basketball']\n",
            "['cycling', 'basketball', 'badminton']\n",
            "['pizza', 'burger', 'sandwich']\n",
            "['burger', 'sandwich', 'pizza']\n",
            "['sandwich', 'pizza', 'burger']\n"
          ]
        }
      ],
      "source": [
        "for c in corpus:\n",
        "    print(c)"
      ]
    },
    {
      "cell_type": "code",
      "execution_count": 14,
      "metadata": {
        "id": "CY5MHN8WTQq-"
      },
      "outputs": [],
      "source": [
        "#  Generating random batches of training data for skipgram\n",
        "\n",
        "def random_batch(batch_size, word_sequence):\n",
        "\n",
        "    # Make skipgram of one size window\n",
        "    skip_grams = []\n",
        "    # loop each word sequence\n",
        "    # we starts from 1 because 0 has no context\n",
        "    # we stop at second last for the same reason\n",
        "    for sent in corpus:\n",
        "        for i in range(1, len(sent) - 1):\n",
        "            target = word2index[sent[i]]\n",
        "            context = [word2index[sent[i - 1]], word2index[sent[i + 1]]]\n",
        "            for w in context:\n",
        "                skip_grams.append([target, w])\n",
        "\n",
        "    random_inputs = []\n",
        "    random_labels = []\n",
        "    random_index = np.random.choice(range(len(skip_grams)), batch_size, replace=False) #randomly pick without replacement\n",
        "\n",
        "    for i in random_index:\n",
        "        random_inputs.append([skip_grams[i][0]])  # target, e.g., 2\n",
        "        random_labels.append([skip_grams[i][1]])  # context word, e.g., 3\n",
        "\n",
        "    return np.array(random_inputs), np.array(random_labels)"
      ]
    },
    {
      "cell_type": "markdown",
      "metadata": {
        "id": "Duh4J1zUTQq-"
      },
      "source": [
        "### Testing the method"
      ]
    },
    {
      "cell_type": "code",
      "execution_count": 24,
      "metadata": {
        "colab": {
          "base_uri": "https://localhost:8080/"
        },
        "id": "ybUbfuGpTQq-",
        "outputId": "f559c968-5609-4ebd-a248-646f27143ad7"
      },
      "outputs": [
        {
          "output_type": "stream",
          "name": "stdout",
          "text": [
            "Target words:  [[2]\n",
            " [4]]\n",
            "Context words:  [[0]\n",
            " [1]]\n"
          ]
        }
      ],
      "source": [
        "#testing the method\n",
        "batch_size = 2 # mini-batch size\n",
        "input_batch, target_batch = random_batch(batch_size, corpus)\n",
        "\n",
        "print(\"Target words: \", input_batch)\n",
        "print(\"Context words: \", target_batch)"
      ]
    },
    {
      "cell_type": "markdown",
      "metadata": {
        "id": "VtLSaqMCTQq_"
      },
      "source": [
        "## 1.2 Model\n",
        "\n",
        "$$J(\\theta) = -\\frac{1}{T}\\sum_{t=1}^{T}\\sum_{\\substack{-m \\leq j \\leq m \\\\ j \\neq 0}}\\log P(w_{t+j} | w_t; \\theta)$$\n",
        "\n",
        "where $P(w_{t+j} | w_t; \\theta) = $\n",
        "\n",
        "$$P(o|c)=\\frac{\\exp(\\mathbf{u_o^{\\top}v_c})}{\\sum_{w=1}^V\\exp(\\mathbf{u_w^{\\top}v_c})}$$\n",
        "\n",
        "where $o$ is the outside words and $c$ is the center word"
      ]
    },
    {
      "cell_type": "code",
      "execution_count": 16,
      "metadata": {
        "id": "kDofI-2hTQq_"
      },
      "outputs": [],
      "source": [
        "class Skipgram(nn.Module):\n",
        "\n",
        "    def __init__(self, vocab_size, emb_size):\n",
        "        super(Skipgram,self).__init__()\n",
        "        self.embedding_v = nn.Embedding(vocab_size, emb_size)\n",
        "        self.embedding_u = nn.Embedding(vocab_size, emb_size)\n",
        "\n",
        "    def forward(self, center_words, target_words, all_vocabs):\n",
        "        center_embeds = self.embedding_v(center_words) # [batch_size, 1, emb_size]\n",
        "        target_embeds = self.embedding_u(target_words) # [batch_size, 1, emb_size]\n",
        "        all_embeds    = self.embedding_u(all_vocabs) #   [batch_size, voc_size, emb_size]\n",
        "\n",
        "        scores      = target_embeds.bmm(center_embeds.transpose(1, 2)).squeeze(2)\n",
        "        #[batch_size, 1, emb_size] @ [batch_size, emb_size, 1] = [batch_size, 1, 1] = [batch_size, 1]\n",
        "\n",
        "        norm_scores = all_embeds.bmm(center_embeds.transpose(1, 2)).squeeze(2)\n",
        "        #[batch_size, voc_size, emb_size] @ [batch_size, emb_size, 1] = [batch_size, voc_size, 1] = [batch_size, voc_size]\n",
        "\n",
        "        nll = -torch.mean(torch.log(torch.exp(scores)/torch.sum(torch.exp(norm_scores), 1).unsqueeze(1))) # log-softmax\n",
        "        # scalar (loss must be scalar)\n",
        "\n",
        "        return nll # negative log likelihood"
      ]
    },
    {
      "cell_type": "markdown",
      "metadata": {
        "id": "1aCNt47XTQq_"
      },
      "source": [
        "## 1.3 Training"
      ]
    },
    {
      "cell_type": "code",
      "execution_count": 17,
      "metadata": {
        "id": "VqeiHS4tTQq_"
      },
      "outputs": [],
      "source": [
        "batch_size     = 2 # mini-batch size\n",
        "embedding_size = 2 #so we can later plot\n",
        "model          = Skipgram(voc_size, embedding_size)\n",
        "\n",
        "optimizer = optim.Adam(model.parameters(), lr=0.001)"
      ]
    },
    {
      "cell_type": "code",
      "execution_count": 18,
      "metadata": {
        "colab": {
          "base_uri": "https://localhost:8080/"
        },
        "id": "xYUa7COiTQq_",
        "outputId": "58592296-17db-43cb-c3e7-f8239289aefd"
      },
      "outputs": [
        {
          "output_type": "execute_result",
          "data": {
            "text/plain": [
              "torch.Size([2, 7])"
            ]
          },
          "metadata": {},
          "execution_count": 18
        }
      ],
      "source": [
        "def prepare_sequence(seq, word2index):\n",
        "    idxs = list(map(lambda w: word2index[w] if word2index.get(w) is not None else word2index[\"<UNK>\"], seq))\n",
        "    return torch.LongTensor(idxs)\n",
        "\n",
        "#use for the normalized term in the probability calculation\n",
        "all_vocabs = prepare_sequence(list(vocab), word2index).expand(batch_size, len(vocab))  # [batch_size, voc_size]\n",
        "all_vocabs.shape"
      ]
    },
    {
      "cell_type": "code",
      "execution_count": 19,
      "metadata": {
        "id": "OPtMLu-FTQrA"
      },
      "outputs": [],
      "source": [
        "def epoch_time(start_time, end_time):\n",
        "    elapsed_time = end_time - start_time\n",
        "    elapsed_mins = int(elapsed_time / 60)\n",
        "    elapsed_secs = int(elapsed_time - (elapsed_mins * 60))\n",
        "    return elapsed_mins, elapsed_secs"
      ]
    },
    {
      "cell_type": "code",
      "execution_count": 20,
      "metadata": {
        "colab": {
          "base_uri": "https://localhost:8080/"
        },
        "id": "rhAtNzL7TQrA",
        "outputId": "033682e8-1914-4a97-91c9-d7f35db20613"
      },
      "outputs": [
        {
          "output_type": "stream",
          "name": "stdout",
          "text": [
            "Epoch: 1000 | cost: 1.944652 | time: 0m 0s\n",
            "Epoch: 2000 | cost: 1.174757 | time: 0m 0s\n",
            "Epoch: 3000 | cost: 0.936937 | time: 0m 0s\n",
            "Epoch: 4000 | cost: 1.328307 | time: 0m 0s\n",
            "Epoch: 5000 | cost: 1.502067 | time: 0m 0s\n"
          ]
        }
      ],
      "source": [
        "import time\n",
        "\n",
        "# Training\n",
        "num_epochs = 5000\n",
        "for epoch in range(num_epochs):\n",
        "\n",
        "    start = time.time()\n",
        "\n",
        "    input_batch, target_batch = random_batch(batch_size, corpus)\n",
        "    input_batch  = torch.LongTensor(input_batch)  #[batch_size, 1]\n",
        "    target_batch = torch.LongTensor(target_batch) #[batch_size, 1]\n",
        "\n",
        "    optimizer.zero_grad()\n",
        "    loss = model(input_batch, target_batch, all_vocabs)\n",
        "\n",
        "    loss.backward()\n",
        "    optimizer.step()\n",
        "\n",
        "    end = time.time()\n",
        "\n",
        "    epoch_mins, epoch_secs = epoch_time(start, end)\n",
        "\n",
        "    if (epoch + 1) % 1000 == 0:\n",
        "        print(f\"Epoch: {epoch + 1} | cost: {loss:.6f} | time: {epoch_mins}m {epoch_secs}s\")\n"
      ]
    },
    {
      "cell_type": "markdown",
      "metadata": {
        "id": "Pb0jGvDbTQrA"
      },
      "source": [
        "## 1.4 Plotting the embeddings"
      ]
    },
    {
      "cell_type": "code",
      "execution_count": 21,
      "metadata": {
        "colab": {
          "base_uri": "https://localhost:8080/"
        },
        "id": "4SFtgc60TQrA",
        "outputId": "8e1e86c6-adab-4563-f930-b711445bed04"
      },
      "outputs": [
        {
          "output_type": "execute_result",
          "data": {
            "text/plain": [
              "['basketball', 'burger', 'cycling', 'pizza', 'sandwich', 'badminton', '<UNK>']"
            ]
          },
          "metadata": {},
          "execution_count": 21
        }
      ],
      "source": [
        "#list of vocabs\n",
        "vocab[:10]"
      ]
    },
    {
      "cell_type": "code",
      "execution_count": 22,
      "metadata": {
        "id": "W0Dq1oIITQrA"
      },
      "outputs": [],
      "source": [
        "word = vocab[0]"
      ]
    },
    {
      "cell_type": "code",
      "execution_count": 23,
      "metadata": {
        "colab": {
          "base_uri": "https://localhost:8080/"
        },
        "id": "DM1-giVgTQrB",
        "outputId": "5ad1c64f-0984-430e-ad13-df2c8c03d8e0"
      },
      "outputs": [
        {
          "output_type": "execute_result",
          "data": {
            "text/plain": [
              "0"
            ]
          },
          "metadata": {},
          "execution_count": 23
        }
      ],
      "source": [
        "#numericalization\n",
        "id = word2index[word]\n",
        "id"
      ]
    },
    {
      "cell_type": "code",
      "execution_count": 25,
      "metadata": {
        "colab": {
          "base_uri": "https://localhost:8080/"
        },
        "id": "iu8KjRgxTQrB",
        "outputId": "0013f1b0-1953-49b9-e19c-7fc5ec9500a1"
      },
      "outputs": [
        {
          "output_type": "execute_result",
          "data": {
            "text/plain": [
              "tensor([0])"
            ]
          },
          "metadata": {},
          "execution_count": 25
        }
      ],
      "source": [
        "id_tensor = torch.LongTensor([id])\n",
        "id_tensor"
      ]
    },
    {
      "cell_type": "code",
      "execution_count": 26,
      "metadata": {
        "colab": {
          "base_uri": "https://localhost:8080/"
        },
        "id": "fB70swSkTQrB",
        "outputId": "b0573bfc-82c0-4dfd-bde7-8d4c4d932d65"
      },
      "outputs": [
        {
          "output_type": "execute_result",
          "data": {
            "text/plain": [
              "(tensor([[-0.4931, -1.2286]], grad_fn=<EmbeddingBackward0>),\n",
              " tensor([[-0.3559, -0.0495]], grad_fn=<EmbeddingBackward0>))"
            ]
          },
          "metadata": {},
          "execution_count": 26
        }
      ],
      "source": [
        "#get the embedding by averaging\n",
        "v_embed = model.embedding_v(id_tensor)\n",
        "u_embed = model.embedding_u(id_tensor)\n",
        "\n",
        "v_embed, u_embed"
      ]
    },
    {
      "cell_type": "code",
      "execution_count": 27,
      "metadata": {
        "colab": {
          "base_uri": "https://localhost:8080/"
        },
        "id": "mUeioWeKTQrB",
        "outputId": "9f68a0b9-66cc-4c45-ca28-b1356e642ada"
      },
      "outputs": [
        {
          "output_type": "execute_result",
          "data": {
            "text/plain": [
              "tensor(-0.6391, grad_fn=<SelectBackward0>)"
            ]
          },
          "metadata": {},
          "execution_count": 27
        }
      ],
      "source": [
        "#average to get the word embedding\n",
        "word_embed = (v_embed + u_embed) / 2\n",
        "word_embed[0][1]"
      ]
    },
    {
      "cell_type": "code",
      "execution_count": 28,
      "metadata": {
        "id": "HyfQWV-OTQrC"
      },
      "outputs": [],
      "source": [
        "#let's write a function to get embedding given a word\n",
        "def get_embed(word):\n",
        "    id_tensor = torch.LongTensor([word2index[word]])\n",
        "    v_embed = model.embedding_v(id_tensor)\n",
        "    u_embed = model.embedding_u(id_tensor)\n",
        "    word_embed = (v_embed + u_embed) / 2\n",
        "    x, y = word_embed[0][0].item(), word_embed[0][1].item()\n",
        "\n",
        "    return x, y"
      ]
    },
    {
      "cell_type": "code",
      "execution_count": 29,
      "metadata": {
        "colab": {
          "base_uri": "https://localhost:8080/",
          "height": 295
        },
        "id": "oJC_GGwQTQrC",
        "outputId": "511b7239-8a8b-43d5-d845-cd32cbcb0b8c"
      },
      "outputs": [
        {
          "output_type": "display_data",
          "data": {
            "text/plain": [
              "<Figure size 600x300 with 1 Axes>"
            ],
            "image/png": "[encoded data removed]"
          },
          "metadata": {}
        }
      ],
      "source": [
        "plt.figure(figsize=(6,3))\n",
        "for i, word in enumerate(vocab[:20]): #loop each unique vocab\n",
        "    x, y = get_embed(word)\n",
        "    plt.scatter(x, y)\n",
        "    plt.annotate(word, xy=(x, y), xytext=(5, 2), textcoords='offset points')\n",
        "plt.show()"
      ]
    },
    {
      "cell_type": "markdown",
      "source": [
        "# 2. GloVE\n",
        "\n",
        "Let's work on implementation of GloVE.\n"
      ],
      "metadata": {
        "id": "orh2veHXe-Ir"
      }
    },
    {
      "cell_type": "markdown",
      "source": [
        "## 2.1 Build Co-occurence Matrix X\n",
        "Here, we need to count the co-occurence of two words given some window size. We gonna use window size of 1."
      ],
      "metadata": {
        "id": "EpON0D1Ffqed"
      }
    },
    {
      "cell_type": "code",
      "source": [
        "from collections import Counter\n",
        "\n",
        "X_i = Counter(flatten(corpus)) # X_i\n",
        "X_i"
      ],
      "metadata": {
        "colab": {
          "base_uri": "https://localhost:8080/"
        },
        "id": "HvRg07_ZfMmB",
        "outputId": "230d88b2-c7e3-4add-b722-7addb8ade7bd"
      },
      "execution_count": 30,
      "outputs": [
        {
          "output_type": "execute_result",
          "data": {
            "text/plain": [
              "Counter({'basketball': 3,\n",
              "         'badminton': 3,\n",
              "         'cycling': 3,\n",
              "         'pizza': 3,\n",
              "         'burger': 3,\n",
              "         'sandwich': 3})"
            ]
          },
          "metadata": {},
          "execution_count": 30
        }
      ]
    },
    {
      "cell_type": "code",
      "source": [
        "# Make skip gram of one size window\n",
        "skip_grams = []\n",
        "# loop each word sequence\n",
        "# we starts from 1 because 0 has no context\n",
        "# we stop at second last for the same reason\n",
        "for sent in corpus:\n",
        "    for i in range(1, len(sent) - 1):\n",
        "        target = sent[i]\n",
        "        context = [sent[i - 1], sent[i + 1]]\n",
        "        for w in context:\n",
        "            skip_grams.append((target, w))\n",
        "\n",
        "skip_grams"
      ],
      "metadata": {
        "colab": {
          "base_uri": "https://localhost:8080/"
        },
        "id": "ZYd8KYUtfMfe",
        "outputId": "a511f1a2-4725-40d3-d14c-7d2d40e3a726"
      },
      "execution_count": 31,
      "outputs": [
        {
          "output_type": "execute_result",
          "data": {
            "text/plain": [
              "[('badminton', 'basketball'),\n",
              " ('badminton', 'cycling'),\n",
              " ('cycling', 'badminton'),\n",
              " ('cycling', 'basketball'),\n",
              " ('basketball', 'cycling'),\n",
              " ('basketball', 'badminton'),\n",
              " ('burger', 'pizza'),\n",
              " ('burger', 'sandwich'),\n",
              " ('sandwich', 'burger'),\n",
              " ('sandwich', 'pizza'),\n",
              " ('pizza', 'sandwich'),\n",
              " ('pizza', 'burger')]"
            ]
          },
          "metadata": {},
          "execution_count": 31
        }
      ]
    },
    {
      "cell_type": "code",
      "source": [
        "X_ik_skipgram = Counter(skip_grams) # Co-occurece in window size 1\n",
        "X_ik_skipgram"
      ],
      "metadata": {
        "colab": {
          "base_uri": "https://localhost:8080/"
        },
        "id": "LNQ5Ff44fMP3",
        "outputId": "6fb4b629-03f3-4755-9bf4-b6d8725e1f2f"
      },
      "execution_count": 32,
      "outputs": [
        {
          "output_type": "execute_result",
          "data": {
            "text/plain": [
              "Counter({('badminton', 'basketball'): 1,\n",
              "         ('badminton', 'cycling'): 1,\n",
              "         ('cycling', 'badminton'): 1,\n",
              "         ('cycling', 'basketball'): 1,\n",
              "         ('basketball', 'cycling'): 1,\n",
              "         ('basketball', 'badminton'): 1,\n",
              "         ('burger', 'pizza'): 1,\n",
              "         ('burger', 'sandwich'): 1,\n",
              "         ('sandwich', 'burger'): 1,\n",
              "         ('sandwich', 'pizza'): 1,\n",
              "         ('pizza', 'sandwich'): 1,\n",
              "         ('pizza', 'burger'): 1})"
            ]
          },
          "metadata": {},
          "execution_count": 32
        }
      ]
    },
    {
      "cell_type": "markdown",
      "source": [
        "## 2.2 Weighting function\n",
        "\n",
        "GloVe includes a weighting function to scale down too frequent words.?"
      ],
      "metadata": {
        "id": "3asyuQyYgrHU"
      }
    },
    {
      "cell_type": "code",
      "source": [
        "#simply a normalized function...don't worry too much\n",
        "def weighting(w_i, w_j, X_ik):\n",
        "\n",
        "    #check whether the co-occurrences exist between these two words\n",
        "    try:\n",
        "        x_ij = X_ik[(w_i, w_j)]\n",
        "    except:\n",
        "        x_ij = 1  #if does not exist, set it to 1\n",
        "\n",
        "    x_max = 100 #100 # fixed in paper  #cannot exceed 100 counts\n",
        "    alpha = 0.75\n",
        "\n",
        "    #if co-occurrence does not exceed 100, scale it based on some alpha\n",
        "    if x_ij < x_max:\n",
        "        result = (x_ij/x_max)**alpha  #scale it\n",
        "    else:\n",
        "        result = 1  #if is greater than max, set it to 1 maximum\n",
        "\n",
        "    return result"
      ],
      "metadata": {
        "id": "Dyr9YPvGgnci"
      },
      "execution_count": 33,
      "outputs": []
    },
    {
      "cell_type": "code",
      "source": [
        "from itertools import combinations_with_replacement\n",
        "\n",
        "X_ik = {}  #for keeping the co-occurences\n",
        "weighting_dic = {} #scaling the percentage of sampling\n",
        "\n",
        "for bigram in combinations_with_replacement(vocab, 2):\n",
        "    if X_ik_skipgram.get(bigram) is not None:  #matches\n",
        "        co_occer = X_ik_skipgram[bigram]  #get the count from what we already counted\n",
        "        X_ik[bigram] = co_occer + 1 # + 1 for stability issue\n",
        "        X_ik[(bigram[1],bigram[0])] = co_occer+1   #count also for the opposite\n",
        "    else:\n",
        "        pass\n",
        "\n",
        "    weighting_dic[bigram] = weighting(bigram[0], bigram[1], X_ik)\n",
        "    weighting_dic[(bigram[1], bigram[0])] = weighting(bigram[1], bigram[0], X_ik)\n",
        "\n",
        "print(f\"{X_ik=}\")\n",
        "print(f\"{weighting_dic=}\")"
      ],
      "metadata": {
        "colab": {
          "base_uri": "https://localhost:8080/"
        },
        "id": "4iN0Oe3GgnYX",
        "outputId": "a02f5f77-c2c9-4575-915d-1c90ddc22443"
      },
      "execution_count": 34,
      "outputs": [
        {
          "output_type": "stream",
          "name": "stdout",
          "text": [
            "X_ik={('basketball', 'cycling'): 2, ('cycling', 'basketball'): 2, ('basketball', 'badminton'): 2, ('badminton', 'basketball'): 2, ('burger', 'pizza'): 2, ('pizza', 'burger'): 2, ('burger', 'sandwich'): 2, ('sandwich', 'burger'): 2, ('cycling', 'badminton'): 2, ('badminton', 'cycling'): 2, ('pizza', 'sandwich'): 2, ('sandwich', 'pizza'): 2}\n",
            "weighting_dic={('basketball', 'basketball'): 0.03162277660168379, ('basketball', 'burger'): 0.03162277660168379, ('burger', 'basketball'): 0.03162277660168379, ('basketball', 'cycling'): 0.053182958969449884, ('cycling', 'basketball'): 0.053182958969449884, ('basketball', 'pizza'): 0.03162277660168379, ('pizza', 'basketball'): 0.03162277660168379, ('basketball', 'sandwich'): 0.03162277660168379, ('sandwich', 'basketball'): 0.03162277660168379, ('basketball', 'badminton'): 0.053182958969449884, ('badminton', 'basketball'): 0.053182958969449884, ('basketball', '<UNK>'): 0.03162277660168379, ('<UNK>', 'basketball'): 0.03162277660168379, ('burger', 'burger'): 0.03162277660168379, ('burger', 'cycling'): 0.03162277660168379, ('cycling', 'burger'): 0.03162277660168379, ('burger', 'pizza'): 0.053182958969449884, ('pizza', 'burger'): 0.053182958969449884, ('burger', 'sandwich'): 0.053182958969449884, ('sandwich', 'burger'): 0.053182958969449884, ('burger', 'badminton'): 0.03162277660168379, ('badminton', 'burger'): 0.03162277660168379, ('burger', '<UNK>'): 0.03162277660168379, ('<UNK>', 'burger'): 0.03162277660168379, ('cycling', 'cycling'): 0.03162277660168379, ('cycling', 'pizza'): 0.03162277660168379, ('pizza', 'cycling'): 0.03162277660168379, ('cycling', 'sandwich'): 0.03162277660168379, ('sandwich', 'cycling'): 0.03162277660168379, ('cycling', 'badminton'): 0.053182958969449884, ('badminton', 'cycling'): 0.053182958969449884, ('cycling', '<UNK>'): 0.03162277660168379, ('<UNK>', 'cycling'): 0.03162277660168379, ('pizza', 'pizza'): 0.03162277660168379, ('pizza', 'sandwich'): 0.053182958969449884, ('sandwich', 'pizza'): 0.053182958969449884, ('pizza', 'badminton'): 0.03162277660168379, ('badminton', 'pizza'): 0.03162277660168379, ('pizza', '<UNK>'): 0.03162277660168379, ('<UNK>', 'pizza'): 0.03162277660168379, ('sandwich', 'sandwich'): 0.03162277660168379, ('sandwich', 'badminton'): 0.03162277660168379, ('badminton', 'sandwich'): 0.03162277660168379, ('sandwich', '<UNK>'): 0.03162277660168379, ('<UNK>', 'sandwich'): 0.03162277660168379, ('badminton', 'badminton'): 0.03162277660168379, ('badminton', '<UNK>'): 0.03162277660168379, ('<UNK>', 'badminton'): 0.03162277660168379, ('<UNK>', '<UNK>'): 0.03162277660168379}\n"
          ]
        }
      ]
    },
    {
      "cell_type": "markdown",
      "source": [
        "## 2.3 Prepare train data\n"
      ],
      "metadata": {
        "id": "y5GS91jYh6s4"
      }
    },
    {
      "cell_type": "code",
      "source": [
        "for c in corpus:\n",
        "    print(c)"
      ],
      "metadata": {
        "colab": {
          "base_uri": "https://localhost:8080/"
        },
        "id": "hVJ9lVMognUT",
        "outputId": "14ab948d-4dad-48c0-e9c4-50ea0611098e"
      },
      "execution_count": 35,
      "outputs": [
        {
          "output_type": "stream",
          "name": "stdout",
          "text": [
            "['basketball', 'badminton', 'cycling']\n",
            "['badminton', 'cycling', 'basketball']\n",
            "['cycling', 'basketball', 'badminton']\n",
            "['pizza', 'burger', 'sandwich']\n",
            "['burger', 'sandwich', 'pizza']\n",
            "['sandwich', 'pizza', 'burger']\n"
          ]
        }
      ]
    },
    {
      "cell_type": "code",
      "source": [
        "import math\n",
        "\n",
        "def random_batch(batch_size, word_sequence, skip_grams, X_ik, weighting_dic):\n",
        "\n",
        "    #convert to id since our skip_grams is word, not yet id\n",
        "    skip_grams_id = [(word2index[skip_gram[0]], word2index[skip_gram[1]]) for skip_gram in skip_grams]\n",
        "\n",
        "    random_inputs = []\n",
        "    random_labels = []\n",
        "    random_coocs  = []\n",
        "    random_weightings = []\n",
        "    random_index = np.random.choice(range(len(skip_grams_id)), batch_size, replace=False) #randomly pick without replacement\n",
        "\n",
        "    for i in random_index:\n",
        "        random_inputs.append([skip_grams_id[i][0]])  # target, e.g., 2\n",
        "        random_labels.append([skip_grams_id[i][1]])  # context word, e.g., 3\n",
        "\n",
        "        #get cooc\n",
        "        pair = skip_grams[i]\n",
        "        try:\n",
        "            cooc = X_ik[pair]\n",
        "        except:\n",
        "            cooc = 1\n",
        "        random_coocs.append([math.log(cooc)])\n",
        "\n",
        "        #get weighting\n",
        "        weighting = weighting_dic[pair]\n",
        "        random_weightings.append([weighting])\n",
        "\n",
        "    return np.array(random_inputs), np.array(random_labels), np.array(random_coocs), np.array(random_weightings)"
      ],
      "metadata": {
        "id": "fVPcWHbkiMiH"
      },
      "execution_count": 36,
      "outputs": []
    },
    {
      "cell_type": "markdown",
      "source": [
        "### Testing the method"
      ],
      "metadata": {
        "id": "cv1gveISifRu"
      }
    },
    {
      "cell_type": "code",
      "source": [
        "#testing the method\n",
        "batch_size = 2 # mini-batch size\n",
        "input_batch, target_batch, cooc_batch, weighting_batch = random_batch(batch_size, corpus, skip_grams, X_ik, weighting_dic)\n",
        "\n",
        "print(\"Input: \", input_batch)\n",
        "print(\"Target: \", target_batch)\n",
        "print(\"Cooc: \", cooc_batch)\n",
        "print(\"Weighting: \", weighting_batch)\n",
        "\n",
        "#we will convert them to tensor during training, so don't worry..."
      ],
      "metadata": {
        "colab": {
          "base_uri": "https://localhost:8080/"
        },
        "id": "gTmfGXChiMvs",
        "outputId": "919c816e-928d-463d-bb0e-de29c27e2841"
      },
      "execution_count": 37,
      "outputs": [
        {
          "output_type": "stream",
          "name": "stdout",
          "text": [
            "Input:  [[3]\n",
            " [5]]\n",
            "Target:  [[4]\n",
            " [2]]\n",
            "Cooc:  [[0.69314718]\n",
            " [0.69314718]]\n",
            "Weighting:  [[0.05318296]\n",
            " [0.05318296]]\n"
          ]
        }
      ]
    },
    {
      "cell_type": "markdown",
      "source": [
        "## 2.4 Model\n",
        "\n",
        "$$J(\\theta) = \\sum_{V}^{i,j=1} f(X_{ij})(w^{T}_{i}\\tilde{w_{j}}+b_{i}+\\tilde{b_{j}}-\\log X_{ij})$$"
      ],
      "metadata": {
        "id": "dasa8vR4jhVQ"
      }
    },
    {
      "cell_type": "code",
      "source": [
        "class GloVe(nn.Module):\n",
        "\n",
        "    def __init__(self, vocab_size,embed_size):\n",
        "        super(GloVe,self).__init__()\n",
        "        self.embedding_v = nn.Embedding(vocab_size, embed_size) # center embedding\n",
        "        self.embedding_u = nn.Embedding(vocab_size, embed_size) # out embedding\n",
        "\n",
        "        self.v_bias = nn.Embedding(vocab_size, 1)\n",
        "        self.u_bias = nn.Embedding(vocab_size, 1)\n",
        "\n",
        "    def forward(self, center_words, target_words, coocs, weighting):\n",
        "        center_embeds = self.embedding_v(center_words) # [batch_size, 1, emb_size]\n",
        "        target_embeds = self.embedding_u(target_words) # [batch_size, 1, emb_size]\n",
        "\n",
        "        center_bias = self.v_bias(center_words).squeeze(1)\n",
        "        target_bias = self.u_bias(target_words).squeeze(1)\n",
        "\n",
        "        inner_product = target_embeds.bmm(center_embeds.transpose(1, 2)).squeeze(2)\n",
        "        #[batch_size, 1, emb_size] @ [batch_size, emb_size, 1] = [batch_size, 1, 1] = [batch_size, 1]\n",
        "\n",
        "        #note that coocs already got log\n",
        "        loss = weighting*torch.pow(inner_product +center_bias + target_bias - coocs, 2)\n",
        "\n",
        "        return torch.sum(loss)"
      ],
      "metadata": {
        "id": "A9L9VeR1gnPl"
      },
      "execution_count": 38,
      "outputs": []
    },
    {
      "cell_type": "markdown",
      "source": [
        "## 2.5 Training"
      ],
      "metadata": {
        "id": "FTdzbCtQjzye"
      }
    },
    {
      "cell_type": "code",
      "source": [
        "batch_size     = 10 # mini-batch size\n",
        "embedding_size = 2 #so we can later plot\n",
        "model          = GloVe(voc_size, embedding_size)\n",
        "\n",
        "criterion = nn.CrossEntropyLoss()\n",
        "optimizer = optim.Adam(model.parameters(), lr=0.001)"
      ],
      "metadata": {
        "id": "s297R0gegnLI"
      },
      "execution_count": 39,
      "outputs": []
    },
    {
      "cell_type": "code",
      "source": [
        "def epoch_time(start_time, end_time):\n",
        "    elapsed_time = end_time - start_time\n",
        "    elapsed_mins = int(elapsed_time / 60)\n",
        "    elapsed_secs = int(elapsed_time - (elapsed_mins * 60))\n",
        "    return elapsed_mins, elapsed_secs"
      ],
      "metadata": {
        "id": "fMvz3Iu1kDxX"
      },
      "execution_count": 40,
      "outputs": []
    },
    {
      "cell_type": "code",
      "source": [
        "import time\n",
        "\n",
        "# Training\n",
        "num_epochs = 5000\n",
        "for epoch in range(num_epochs):\n",
        "\n",
        "    start = time.time()\n",
        "\n",
        "    input_batch, target_batch, cooc_batch, weighting_batch = random_batch(batch_size, corpus, skip_grams, X_ik, weighting_dic)\n",
        "    input_batch  = torch.LongTensor(input_batch)         #[batch_size, 1]\n",
        "    target_batch = torch.LongTensor(target_batch)        #[batch_size, 1]\n",
        "    cooc_batch   = torch.FloatTensor(cooc_batch)         #[batch_size, 1]\n",
        "    weighting_batch = torch.FloatTensor(weighting_batch) #[batch_size, 1]\n",
        "\n",
        "    optimizer.zero_grad()\n",
        "    loss = model(input_batch, target_batch, cooc_batch, weighting_batch)\n",
        "\n",
        "    loss.backward()\n",
        "    optimizer.step()\n",
        "\n",
        "    end = time.time()\n",
        "\n",
        "    epoch_mins, epoch_secs = epoch_time(start, end)\n",
        "\n",
        "    if (epoch + 1) % 1000 == 0:\n",
        "        print(f\"Epoch: {epoch + 1} | cost: {loss:.6f} | time: {epoch_mins}m {epoch_secs}s\")"
      ],
      "metadata": {
        "colab": {
          "base_uri": "https://localhost:8080/"
        },
        "id": "5o8KTzs_kD5X",
        "outputId": "25b0ac95-dc91-4134-fc62-f70e13d585d3"
      },
      "execution_count": 41,
      "outputs": [
        {
          "output_type": "stream",
          "name": "stdout",
          "text": [
            "Epoch: 1000 | cost: 0.016419 | time: 0m 0s\n",
            "Epoch: 2000 | cost: 0.000000 | time: 0m 0s\n",
            "Epoch: 3000 | cost: 0.000000 | time: 0m 0s\n",
            "Epoch: 4000 | cost: 0.000000 | time: 0m 0s\n",
            "Epoch: 5000 | cost: 0.000000 | time: 0m 0s\n"
          ]
        }
      ]
    },
    {
      "cell_type": "markdown",
      "source": [
        "## 2.6 Plotting the embeddings"
      ],
      "metadata": {
        "id": "4Mg8s36nkbNZ"
      }
    },
    {
      "cell_type": "code",
      "source": [
        "#list of vocabs\n",
        "vocab[:10]"
      ],
      "metadata": {
        "colab": {
          "base_uri": "https://localhost:8080/"
        },
        "id": "bupt2-k8jqtQ",
        "outputId": "21bcd367-b8cb-4dba-f49a-8b5391777c0d"
      },
      "execution_count": 42,
      "outputs": [
        {
          "output_type": "execute_result",
          "data": {
            "text/plain": [
              "['basketball', 'burger', 'cycling', 'pizza', 'sandwich', 'badminton', '<UNK>']"
            ]
          },
          "metadata": {},
          "execution_count": 42
        }
      ]
    },
    {
      "cell_type": "code",
      "source": [
        "word = vocab[0]"
      ],
      "metadata": {
        "id": "jqhwFAnZkkNo"
      },
      "execution_count": 43,
      "outputs": []
    },
    {
      "cell_type": "code",
      "source": [
        "#numericalization\n",
        "id = word2index[word]\n",
        "id"
      ],
      "metadata": {
        "colab": {
          "base_uri": "https://localhost:8080/"
        },
        "id": "Eej7YdZukkR0",
        "outputId": "c9dd509e-61f8-45be-c0f9-414b59a237fe"
      },
      "execution_count": 44,
      "outputs": [
        {
          "output_type": "execute_result",
          "data": {
            "text/plain": [
              "0"
            ]
          },
          "metadata": {},
          "execution_count": 44
        }
      ]
    },
    {
      "cell_type": "code",
      "source": [
        "id_tensor = torch.LongTensor([id])\n",
        "id_tensor"
      ],
      "metadata": {
        "colab": {
          "base_uri": "https://localhost:8080/"
        },
        "id": "CModsFRckqa7",
        "outputId": "8eebb3a9-947a-44e6-bc58-c777c9971cb6"
      },
      "execution_count": 45,
      "outputs": [
        {
          "output_type": "execute_result",
          "data": {
            "text/plain": [
              "tensor([0])"
            ]
          },
          "metadata": {},
          "execution_count": 45
        }
      ]
    },
    {
      "cell_type": "code",
      "source": [
        "#get the embedding by averaging\n",
        "v_embed = model.embedding_v(id_tensor)\n",
        "u_embed = model.embedding_u(id_tensor)\n",
        "\n",
        "v_embed, u_embed"
      ],
      "metadata": {
        "colab": {
          "base_uri": "https://localhost:8080/"
        },
        "id": "znCZaFu8jqav",
        "outputId": "727fd748-aa23-4b33-b91e-9b979c731a5c"
      },
      "execution_count": 46,
      "outputs": [
        {
          "output_type": "execute_result",
          "data": {
            "text/plain": [
              "(tensor([[-0.7633, -0.8881]], grad_fn=<EmbeddingBackward0>),\n",
              " tensor([[ 0.9821, -1.3215]], grad_fn=<EmbeddingBackward0>))"
            ]
          },
          "metadata": {},
          "execution_count": 46
        }
      ]
    },
    {
      "cell_type": "code",
      "source": [
        "#average to get the word embedding\n",
        "word_embed = (v_embed + u_embed) / 2\n",
        "word_embed[0][1]"
      ],
      "metadata": {
        "colab": {
          "base_uri": "https://localhost:8080/"
        },
        "id": "NHPzrzZckxA-",
        "outputId": "3490ded4-b6c6-4dcc-e95d-3790b9996c86"
      },
      "execution_count": 47,
      "outputs": [
        {
          "output_type": "execute_result",
          "data": {
            "text/plain": [
              "tensor(-1.1048, grad_fn=<SelectBackward0>)"
            ]
          },
          "metadata": {},
          "execution_count": 47
        }
      ]
    },
    {
      "cell_type": "code",
      "source": [
        "#let's write a function to get embedding given a word\n",
        "def get_embed(word):\n",
        "    id_tensor = torch.LongTensor([word2index[word]])\n",
        "    v_embed = model.embedding_v(id_tensor)\n",
        "    u_embed = model.embedding_u(id_tensor)\n",
        "    word_embed = (v_embed + u_embed) / 2\n",
        "    x, y = word_embed[0][0].item(), word_embed[0][1].item()\n",
        "\n",
        "    return x, y"
      ],
      "metadata": {
        "id": "FPrD7TVMkw4d"
      },
      "execution_count": 48,
      "outputs": []
    },
    {
      "cell_type": "code",
      "source": [
        "plt.figure(figsize=(6,3))\n",
        "for i, word in enumerate(vocab[:20]): #loop each unique vocab\n",
        "    x, y = get_embed(word)\n",
        "    plt.scatter(x, y)\n",
        "    plt.annotate(word, xy=(x, y), xytext=(5, 2), textcoords='offset points')\n",
        "plt.show()"
      ],
      "metadata": {
        "colab": {
          "base_uri": "https://localhost:8080/",
          "height": 295
        },
        "id": "sMRdg3Bxk5bx",
        "outputId": "cbdc05f3-bca2-4576-ccba-233fd23e8448"
      },
      "execution_count": 49,
      "outputs": [
        {
          "output_type": "display_data",
          "data": {
            "text/plain": [
              "<Figure size 600x300 with 1 Axes>"
            ],
            "image/png": "[encoded data removed]"
          },
          "metadata": {}
        }
      ]
    },
    {
      "cell_type": "markdown",
      "metadata": {
        "id": "q0RJRYF7TQrC"
      },
      "source": [
        "## Cosine similarity\n",
        "\n",
        "Formally the [Cosine Similarity](https://en.wikipedia.org/wiki/Cosine_similarity) $s$ between two vectors $p$ and $q$ is defined as:\n",
        "\n",
        "$$s = \\frac{p \\cdot q}{||p|| ||q||}, \\textrm{ where } s \\in [-1, 1] $$\n",
        "\n",
        "If $p$ and $q$ is super similar, the result is 1 otherwise 0."
      ]
    },
    {
      "cell_type": "code",
      "execution_count": 50,
      "metadata": {
        "colab": {
          "base_uri": "https://localhost:8080/"
        },
        "id": "L-dZDji_TQrC",
        "outputId": "06f1d351-4c08-45fb-bbe8-93f24c157115"
      },
      "outputs": [
        {
          "output_type": "execute_result",
          "data": {
            "text/plain": [
              "['basketball', 'burger', 'cycling', 'pizza', 'sandwich', 'badminton', '<UNK>']"
            ]
          },
          "metadata": {},
          "execution_count": 50
        }
      ],
      "source": [
        "vocab"
      ]
    },
    {
      "cell_type": "code",
      "execution_count": 53,
      "metadata": {
        "id": "cupYweZxTQrD"
      },
      "outputs": [],
      "source": [
        "#let's try similarity between first and second, and second and third\n",
        "basketball   = get_embed('basketball')\n",
        "burger       = get_embed('burger')\n",
        "cycling      = get_embed('cycling')"
      ]
    },
    {
      "cell_type": "code",
      "execution_count": 54,
      "metadata": {
        "colab": {
          "base_uri": "https://localhost:8080/"
        },
        "id": "JpLpNUF1TQrD",
        "outputId": "050d0e9e-62b5-4bd1-8bd0-5e71d119b1ca"
      },
      "outputs": [
        {
          "output_type": "stream",
          "name": "stdout",
          "text": [
            "basketball vs. burger:  -0.2087679488057281\n",
            "basketball vs. cycling:  0.3632651530288507\n",
            "basketball vs. basketball:  1.0\n"
          ]
        }
      ],
      "source": [
        "#numpy version\n",
        "from numpy import dot\n",
        "from numpy.linalg import norm\n",
        "\n",
        "def cos_sim(a, b):\n",
        "    cos_sim = dot(a, b)/(norm(a)*norm(b))\n",
        "    return cos_sim\n",
        "\n",
        "print(f\"basketball vs. burger: \",      cos_sim(basketball, burger))\n",
        "print(f\"basketball vs. cycling: \",     cos_sim(basketball, cycling))\n",
        "print(f\"basketball vs. basketball: \",  cos_sim(basketball, basketball))"
      ]
    },
    {
      "cell_type": "code",
      "execution_count": 55,
      "metadata": {
        "colab": {
          "base_uri": "https://localhost:8080/"
        },
        "id": "0yvV1OsqTQrD",
        "outputId": "ef018eb8-80ea-4bc1-dcda-a80c26a19661"
      },
      "outputs": [
        {
          "output_type": "stream",
          "name": "stdout",
          "text": [
            "basketball vs. burger:  -0.20876794880572813\n",
            "basketball vs. cycling:  0.36326515302885065\n",
            "basketball vs. basketball:  1\n"
          ]
        }
      ],
      "source": [
        "#scipy version\n",
        "from scipy import spatial\n",
        "\n",
        "def cos_sim(a, b):\n",
        "    cos_sim = 1 - spatial.distance.cosine(a, b)  #distance = 1 - similarlity, because scipy only gives distance\n",
        "    return cos_sim\n",
        "\n",
        "print(f\"basketball vs. burger: \",      cos_sim(basketball, burger))\n",
        "print(f\"basketball vs. cycling: \",     cos_sim(basketball, cycling))\n",
        "print(f\"basketball vs. basketball: \",  cos_sim(basketball, basketball))"
      ]
    },
    {
      "cell_type": "markdown",
      "source": [
        "# 3. GloVE (Gensim)\n",
        "\n",
        "For looking at word vectors, we'll use Gensim. Gensim isn't really a deep learning package. It's a package for for word and text similarity modeling, which started with topic models and grew into SVD and neural word representations. But its efficient and scalable, and quite widely used. We gonna use GloVe embeddings, downloaded at the Glove page."
      ],
      "metadata": {
        "id": "50Xr4yFXgfpj"
      }
    },
    {
      "cell_type": "code",
      "source": [
        "from gensim.test.utils import datapath\n",
        "from gensim.models import KeyedVectors\n",
        "from gensim.scripts.glove2word2vec import glove2word2vec\n",
        "\n",
        "glove_file = datapath('/content/drive/MyDrive/NLP resources/glove.6B.100d.txt')\n",
        "model = KeyedVectors.load_word2vec_format(glove_file, binary=False, no_header=True)"
      ],
      "metadata": {
        "id": "cfshb_hDk5Qn"
      },
      "execution_count": 56,
      "outputs": []
    },
    {
      "cell_type": "code",
      "source": [
        "#return the vectors\n",
        "model['coffee'].shape"
      ],
      "metadata": {
        "colab": {
          "base_uri": "https://localhost:8080/"
        },
        "id": "OXW7DZTSioNl",
        "outputId": "1625d230-7fae-4d17-b79a-e59ad2693a29"
      },
      "execution_count": 57,
      "outputs": [
        {
          "output_type": "execute_result",
          "data": {
            "text/plain": [
              "(100,)"
            ]
          },
          "metadata": {},
          "execution_count": 57
        }
      ]
    },
    {
      "cell_type": "markdown",
      "source": [
        "## 3.1 Similarity"
      ],
      "metadata": {
        "id": "S_bgBOETsVov"
      }
    },
    {
      "cell_type": "code",
      "source": [
        "model.most_similar('obama')"
      ],
      "metadata": {
        "colab": {
          "base_uri": "https://localhost:8080/"
        },
        "id": "0zJesqLqinYu",
        "outputId": "812871b5-fb05-4722-aac3-2af026df2fe8"
      },
      "execution_count": 58,
      "outputs": [
        {
          "output_type": "execute_result",
          "data": {
            "text/plain": [
              "[('barack', 0.937216579914093),\n",
              " ('bush', 0.927285373210907),\n",
              " ('clinton', 0.896000325679779),\n",
              " ('mccain', 0.8875633478164673),\n",
              " ('gore', 0.8000321388244629),\n",
              " ('hillary', 0.7933662533760071),\n",
              " ('dole', 0.7851964831352234),\n",
              " ('rodham', 0.7518897652626038),\n",
              " ('romney', 0.7488929629325867),\n",
              " ('kerry', 0.7472624182701111)]"
            ]
          },
          "metadata": {},
          "execution_count": 58
        }
      ]
    },
    {
      "cell_type": "code",
      "source": [
        "model.most_similar('language')"
      ],
      "metadata": {
        "colab": {
          "base_uri": "https://localhost:8080/"
        },
        "id": "KGjMxFIAsbqi",
        "outputId": "63fb4ff1-e460-4d7e-b326-c5dd37dcb2fa"
      },
      "execution_count": 59,
      "outputs": [
        {
          "output_type": "execute_result",
          "data": {
            "text/plain": [
              "[('languages', 0.8260655403137207),\n",
              " ('word', 0.7464082837104797),\n",
              " ('spoken', 0.7381494045257568),\n",
              " ('arabic', 0.7318817377090454),\n",
              " ('english', 0.7214903831481934),\n",
              " ('dialect', 0.6912703514099121),\n",
              " ('vocabulary', 0.6908208727836609),\n",
              " ('text', 0.685594916343689),\n",
              " ('translation', 0.6810674667358398),\n",
              " ('words', 0.6715823411941528)]"
            ]
          },
          "metadata": {},
          "execution_count": 59
        }
      ]
    },
    {
      "cell_type": "code",
      "source": [
        "#multiple meanings....\n",
        "model.most_similar(\"plant\")"
      ],
      "metadata": {
        "colab": {
          "base_uri": "https://localhost:8080/"
        },
        "id": "OBImAOiTsbef",
        "outputId": "72957708-bd57-4b6d-eae3-38fca39b02f6"
      },
      "execution_count": 60,
      "outputs": [
        {
          "output_type": "execute_result",
          "data": {
            "text/plain": [
              "[('plants', 0.8918153643608093),\n",
              " ('factory', 0.7068111896514893),\n",
              " ('farm', 0.6553632616996765),\n",
              " ('facility', 0.6538199782371521),\n",
              " ('production', 0.6336488127708435),\n",
              " ('produce', 0.6246358752250671),\n",
              " ('processing', 0.6155514121055603),\n",
              " ('fertilizer', 0.6091734170913696),\n",
              " ('waste', 0.6080260872840881),\n",
              " ('factories', 0.6015971302986145)]"
            ]
          },
          "metadata": {},
          "execution_count": 60
        }
      ]
    },
    {
      "cell_type": "code",
      "source": [
        "model.most_similar(negative=\"plant\")"
      ],
      "metadata": {
        "colab": {
          "base_uri": "https://localhost:8080/"
        },
        "id": "lbUnbshOsbZD",
        "outputId": "ac85ca9f-b8d9-45ef-ef08-d2487db2965b"
      },
      "execution_count": 61,
      "outputs": [
        {
          "output_type": "execute_result",
          "data": {
            "text/plain": [
              "[('gelu', 0.5752187967300415),\n",
              " ('vadm', 0.555915117263794),\n",
              " ('t.p.', 0.5507370233535767),\n",
              " ('debbah', 0.5472500324249268),\n",
              " ('korais', 0.5418546199798584),\n",
              " ('pól', 0.5410396456718445),\n",
              " ('karlene', 0.5345797538757324),\n",
              " ('gowans', 0.5318692326545715),\n",
              " ('erbas', 0.5316898822784424),\n",
              " ('machell', 0.5285011529922485)]"
            ]
          },
          "metadata": {},
          "execution_count": 61
        }
      ]
    },
    {
      "cell_type": "code",
      "source": [
        "#woman + king - man\n",
        "result = model.most_similar(positive=['woman', 'king'], negative=['man'])\n",
        "print(\"{}: {:.4f}\".format(*result[0]))"
      ],
      "metadata": {
        "colab": {
          "base_uri": "https://localhost:8080/"
        },
        "id": "8Yd0sNn9srYw",
        "outputId": "0b45605a-bc95-4f89-910c-940ecc4aee29"
      },
      "execution_count": 62,
      "outputs": [
        {
          "output_type": "stream",
          "name": "stdout",
          "text": [
            "queen: 0.7699\n"
          ]
        }
      ]
    },
    {
      "cell_type": "code",
      "source": [
        "result = model.most_similar(positive=['italy', 'sushi'], negative=['japan'])\n",
        "print(\"{}: {:.4f}\".format(*result[0]))"
      ],
      "metadata": {
        "colab": {
          "base_uri": "https://localhost:8080/"
        },
        "id": "uemZwyPhsrS8",
        "outputId": "79206e09-915a-419e-abbd-5ac5ea419312"
      },
      "execution_count": 63,
      "outputs": [
        {
          "output_type": "stream",
          "name": "stdout",
          "text": [
            "tapas: 0.6232\n"
          ]
        }
      ]
    },
    {
      "cell_type": "markdown",
      "source": [
        "## 3.2 Cosine Similarity\n",
        "Here we can conveniently use distance to find the cosine distance between two words. Note that distance = 1 - similarity."
      ],
      "metadata": {
        "id": "6v3fQ3NMtFZm"
      }
    },
    {
      "cell_type": "code",
      "source": [
        "w1 = \"dog\"\n",
        "w2 = \"cat\"\n",
        "w3 = \"fruit\"\n",
        "w1_w2_dist = model.distance(w1, w2)\n",
        "w1_w3_dist = model.distance(w1, w3)\n",
        "\n",
        "#dog is much closer to cat then dog to fruit\n",
        "w1_w2_dist, w1_w3_dist"
      ],
      "metadata": {
        "colab": {
          "base_uri": "https://localhost:8080/"
        },
        "id": "whUAj6a3tDfR",
        "outputId": "1109134e-fdd4-42c9-c1a9-a88c6454d2e7"
      },
      "execution_count": 64,
      "outputs": [
        {
          "output_type": "execute_result",
          "data": {
            "text/plain": [
              "(0.1201925277709961, 0.6231490671634674)"
            ]
          },
          "metadata": {},
          "execution_count": 64
        }
      ]
    },
    {
      "cell_type": "code",
      "source": [
        "w1 = \"happy\" # synonym 1\n",
        "w2 = \"cheerful\" # synonym 2\n",
        "w3 = \"sad\" # antonym\n",
        "w1_w2_dist = model.distance(w1, w2)\n",
        "w1_w3_dist = model.distance(w1, w3)\n",
        "\n",
        "#$w_1$=\"happy\" is closer to $w_3$=\"sad\" than to $w_2$=\"cheerful\"!!\n",
        "#those similarlity does not handle antonym....\n",
        "w1_w2_dist, w1_w3_dist"
      ],
      "metadata": {
        "colab": {
          "base_uri": "https://localhost:8080/"
        },
        "id": "qL3sO743srOZ",
        "outputId": "2714d25d-782a-425e-a168-1418f5939db5"
      },
      "execution_count": 65,
      "outputs": [
        {
          "output_type": "execute_result",
          "data": {
            "text/plain": [
              "(0.4540063738822937, 0.31988632678985596)"
            ]
          },
          "metadata": {},
          "execution_count": 65
        }
      ]
    },
    {
      "cell_type": "markdown",
      "source": [
        "## 3.2 Analogy"
      ],
      "metadata": {
        "id": "cvzvPRDwuUc2"
      }
    },
    {
      "cell_type": "code",
      "source": [
        "def analogy(x1, x2, y1):\n",
        "    result = model.most_similar(positive=[y1, x2], negative=[x1])\n",
        "    return result[0][0]"
      ],
      "metadata": {
        "id": "5aD1az-0uZuM"
      },
      "execution_count": 66,
      "outputs": []
    },
    {
      "cell_type": "code",
      "source": [
        "analogy('japan', 'japanese', 'australia')"
      ],
      "metadata": {
        "colab": {
          "base_uri": "https://localhost:8080/",
          "height": 36
        },
        "id": "INm-SrJHueHk",
        "outputId": "a65665dd-b743-4967-bbf6-6246c4b05961"
      },
      "execution_count": 67,
      "outputs": [
        {
          "output_type": "execute_result",
          "data": {
            "text/plain": [
              "'australian'"
            ],
            "application/vnd.google.colaboratory.intrinsic+json": {
              "type": "string"
            }
          },
          "metadata": {},
          "execution_count": 67
        }
      ]
    },
    {
      "cell_type": "code",
      "source": [
        "analogy('japan', 'sushi', 'italy')"
      ],
      "metadata": {
        "colab": {
          "base_uri": "https://localhost:8080/",
          "height": 36
        },
        "id": "Goe94P6Mud3a",
        "outputId": "cb1324f2-200d-4aa3-c2d7-80a65e24437e"
      },
      "execution_count": 68,
      "outputs": [
        {
          "output_type": "execute_result",
          "data": {
            "text/plain": [
              "'tapas'"
            ],
            "application/vnd.google.colaboratory.intrinsic+json": {
              "type": "string"
            }
          },
          "metadata": {},
          "execution_count": 68
        }
      ]
    },
    {
      "cell_type": "code",
      "source": [
        "analogy('tall', 'tallest', 'long')"
      ],
      "metadata": {
        "colab": {
          "base_uri": "https://localhost:8080/",
          "height": 36
        },
        "id": "ffpX1sWiujVd",
        "outputId": "0820aa6d-e0b1-4728-e397-ac192cabedf4"
      },
      "execution_count": 69,
      "outputs": [
        {
          "output_type": "execute_result",
          "data": {
            "text/plain": [
              "'longest'"
            ],
            "application/vnd.google.colaboratory.intrinsic+json": {
              "type": "string"
            }
          },
          "metadata": {},
          "execution_count": 69
        }
      ]
    },
    {
      "cell_type": "code",
      "source": [
        "analogy('good', 'fantastic', 'bad')"
      ],
      "metadata": {
        "colab": {
          "base_uri": "https://localhost:8080/",
          "height": 36
        },
        "id": "Su7A0ztRumLe",
        "outputId": "93245fd1-2647-468c-b047-4d5f7d469b95"
      },
      "execution_count": 70,
      "outputs": [
        {
          "output_type": "execute_result",
          "data": {
            "text/plain": [
              "'terrible'"
            ],
            "application/vnd.google.colaboratory.intrinsic+json": {
              "type": "string"
            }
          },
          "metadata": {},
          "execution_count": 70
        }
      ]
    },
    {
      "cell_type": "code",
      "source": [
        "analogy('bird', 'fly', 'human')"
      ],
      "metadata": {
        "colab": {
          "base_uri": "https://localhost:8080/",
          "height": 36
        },
        "id": "e8FmpXXAuo0Q",
        "outputId": "02ce3543-9392-414b-e1aa-addaf89473c2"
      },
      "execution_count": 71,
      "outputs": [
        {
          "output_type": "execute_result",
          "data": {
            "text/plain": [
              "'bound'"
            ],
            "application/vnd.google.colaboratory.intrinsic+json": {
              "type": "string"
            }
          },
          "metadata": {},
          "execution_count": 71
        }
      ]
    },
    {
      "cell_type": "markdown",
      "source": [
        "## 3.3 Visualization"
      ],
      "metadata": {
        "id": "0rGIm0HBuu8Y"
      }
    },
    {
      "cell_type": "code",
      "source": [
        "from sklearn.decomposition import PCA\n",
        "import numpy as np\n",
        "import matplotlib.pyplot as plt\n",
        "\n",
        "words = ['coffee', 'tea', 'beer', 'wine', 'brandy', 'rum', 'champagne', 'water',\n",
        "        'spaghetti', 'borscht', 'hamburger', 'pizza', 'falafel', 'sushi', 'meatballs',\n",
        "        'dog', 'horse', 'cat', 'monkey', 'parrot', 'koala', 'lizard',\n",
        "        'frog', 'toad', 'monkey', 'ape', 'kangaroo', 'wombat', 'wolf',\n",
        "        'france', 'germany', 'hungary', 'luxembourg', 'australia', 'fiji', 'china',\n",
        "        'homework', 'assignment', 'problem', 'exam', 'test', 'class',\n",
        "        'school', 'college', 'university', 'institute']\n",
        "\n",
        "word_vectors = np.array([model[w] for w in words])\n",
        "\n",
        "twodim = PCA().fit_transform(word_vectors)[:,:2]  #transform 100 to 2 dimensions\n",
        "\n",
        "plt.figure(figsize=(10,10))\n",
        "plt.scatter(twodim[:,0], twodim[:,1], edgecolors='k', c='r')\n",
        "for word, (x,y) in zip(words, twodim):\n",
        "    plt.text(x+0.05, y+0.05, word)\n",
        "plt.show()"
      ],
      "metadata": {
        "colab": {
          "base_uri": "https://localhost:8080/",
          "height": 830
        },
        "id": "BHhSKjw8u12z",
        "outputId": "a51f0c4c-aa31-47e9-c208-d0019cb4b379"
      },
      "execution_count": 72,
      "outputs": [
        {
          "output_type": "display_data",
          "data": {
            "text/plain": [
              "<Figure size 1000x1000 with 1 Axes>"
            ],
            "image/png": "[encoded data removed]"
          },
          "metadata": {}
        }
      ]
    },
    {
      "cell_type": "code",
      "source": [],
      "metadata": {
        "id": "Ll29ZTrSu2Pg"
      },
      "execution_count": null,
      "outputs": []
    }
  ],
  "metadata": {
    "anaconda-cloud": {},
    "kernelspec": {
      "display_name": "Python 3",
      "name": "python3"
    },
    "language_info": {
      "codemirror_mode": {
        "name": "ipython",
        "version": 3
      },
      "file_extension": ".py",
      "mimetype": "text/x-python",
      "name": "python",
      "nbconvert_exporter": "python",
      "pygments_lexer": "ipython3",
      "version": "3.9.6"
    },
    "vscode": {
      "interpreter": {
        "hash": "0f2c79af21be9d001248940c049b6176cf8bfb45cabf7aa85848f5cea0f590f6"
      }
    },
    "colab": {
      "provenance": [],
      "gpuType": "T4"
    },
    "accelerator": "GPU"
  },
  "nbformat": 4,
  "nbformat_minor": 0
}